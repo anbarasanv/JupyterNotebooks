{
 "metadata": {
  "language_info": {
   "codemirror_mode": {
    "name": "ipython",
    "version": 3
   },
   "file_extension": ".py",
   "mimetype": "text/x-python",
   "name": "python",
   "nbconvert_exporter": "python",
   "pygments_lexer": "ipython3",
   "version": "3.8.1-final"
  },
  "orig_nbformat": 2,
  "kernelspec": {
   "name": "python_defaultSpec_1597923488987",
   "display_name": "Python 3.8.1 64-bit ('3.8.1': pyenv)"
  }
 },
 "nbformat": 4,
 "nbformat_minor": 2,
 "cells": [
  {
   "cell_type": "markdown",
   "metadata": {},
   "source": [
    "## Method: 1"
   ]
  },
  {
   "cell_type": "code",
   "execution_count": null,
   "metadata": {},
   "outputs": [],
   "source": [
    "import gspread\n",
    "from oauth2client.service_account import ServiceAccountCredentials\n",
    "scope = ['https://www.googleapis.com/auth/spreadsheets', \"https://www.googleapis.com/auth/drive.file\", \"https://www.googleapis.com/auth/drive\"]\n",
    "cread = ServiceAccountCredentials.from_json_keyfile_name('google_sheet_key.json',scope)\n",
    "print(cread)\n",
    "client = gspread.authorize(cread)\n",
    "\n",
    "sheet = client.open(\"Sample Data\").sheet1\n",
    "\n",
    "# Data Access\n",
    "# print(sheet.get_all_records())\n",
    "# print(sheet.row_values(2))\n",
    "# print(sheet.cell(2,1).value)\n",
    "# print(sheet.col_values(1))\n",
    "\n",
    "# Data insert\n",
    "#sheet.insert_row([\"Shoba\", 65], 2)\n",
    "\n",
    "# delete:\n",
    "# sheet.delete_row(4)\n",
    "\n",
    "# update\n",
    "# sheet.update_cell(2,2,64)\n",
    "\n",
    "# find\n",
    "# cell = sheet.find(\"Anbarasan\")\n",
    "# print(cell.value)\n",
    "# print(cell.row)\n",
    "# print(cell.col)   "
   ]
  },
  {
   "cell_type": "markdown",
   "metadata": {},
   "source": [
    "## Method: 2"
   ]
  },
  {
   "cell_type": "code",
   "execution_count": 5,
   "metadata": {
    "tags": []
   },
   "outputs": [
    {
     "output_type": "stream",
     "name": "stdout",
     "text": "Name   Age\n0      Shoba   64\n1  Anbarasan   27\n"
    }
   ],
   "source": [
    "# https://docs.google.com/spreadsheets/d/1vUbKeBZcbvutiPEDKN3JpPGNe06lbOur9IEhsd4x5Vs/edit?usp=sharing\n",
    "import pandas as pd\n",
    "sheet_id = '1vUbKeBZcbvutiPEDKN3JpPGNe06lbOur9IEhsd4x5Vs'\n",
    "\n",
    "df = pd.read_csv(f\"https://docs.google.com/spreadsheets/d/{sheet_id}/export?format=csv\")\n"
   ]
  },
  {
   "cell_type": "markdown",
   "metadata": {},
   "source": [
    "## Method: 3"
   ]
  },
  {
   "cell_type": "code",
   "execution_count": 1,
   "metadata": {},
   "outputs": [],
   "source": [
    "import pandas as pd\n",
    "from gspread_pandas import Spread\n",
    "%matplotlib inline\n"
   ]
  },
  {
   "cell_type": "code",
   "execution_count": 5,
   "metadata": {},
   "outputs": [],
   "source": [
    "s = Spread('Sample Data')"
   ]
  },
  {
   "cell_type": "code",
   "execution_count": 6,
   "metadata": {
    "tags": []
   },
   "outputs": [
    {
     "output_type": "stream",
     "name": "stdout",
     "text": "<gspread_pandas.spread.Spread - 'User: 'anbu-224@anbarasan.iam.gserviceaccount.com', Spread: 'Sample Data', Sheet: 'Sheet1''>\n"
    }
   ],
   "source": [
    "print(s)"
   ]
  },
  {
   "cell_type": "code",
   "execution_count": 9,
   "metadata": {},
   "outputs": [],
   "source": [
    "s.open_sheet(0)"
   ]
  },
  {
   "cell_type": "code",
   "execution_count": 10,
   "metadata": {},
   "outputs": [],
   "source": [
    "df = s.sheet_to_df()"
   ]
  },
  {
   "cell_type": "code",
   "execution_count": 11,
   "metadata": {},
   "outputs": [
    {
     "output_type": "execute_result",
     "data": {
      "text/plain": "          Age\nName         \nShoba      64\nAnbarasan  27",
      "text/html": "<div>\n<style scoped>\n    .dataframe tbody tr th:only-of-type {\n        vertical-align: middle;\n    }\n\n    .dataframe tbody tr th {\n        vertical-align: top;\n    }\n\n    .dataframe thead th {\n        text-align: right;\n    }\n</style>\n<table border=\"1\" class=\"dataframe\">\n  <thead>\n    <tr style=\"text-align: right;\">\n      <th></th>\n      <th>Age</th>\n    </tr>\n    <tr>\n      <th>Name</th>\n      <th></th>\n    </tr>\n  </thead>\n  <tbody>\n    <tr>\n      <th>Shoba</th>\n      <td>64</td>\n    </tr>\n    <tr>\n      <th>Anbarasan</th>\n      <td>27</td>\n    </tr>\n  </tbody>\n</table>\n</div>"
     },
     "metadata": {},
     "execution_count": 11
    }
   ],
   "source": [
    "df.head()"
   ]
  },
  {
   "cell_type": "code",
   "execution_count": 12,
   "metadata": {},
   "outputs": [
    {
     "output_type": "execute_result",
     "data": {
      "text/plain": "           Age\nName          \nShoba       64\nAnbarasan   27",
      "text/html": "<div>\n<style scoped>\n    .dataframe tbody tr th:only-of-type {\n        vertical-align: middle;\n    }\n\n    .dataframe tbody tr th {\n        vertical-align: top;\n    }\n\n    .dataframe thead th {\n        text-align: right;\n    }\n</style>\n<table border=\"1\" class=\"dataframe\">\n  <thead>\n    <tr style=\"text-align: right;\">\n      <th></th>\n      <th>Age</th>\n    </tr>\n    <tr>\n      <th>Name</th>\n      <th></th>\n    </tr>\n  </thead>\n  <tbody>\n    <tr>\n      <th>Shoba</th>\n      <td>64</td>\n    </tr>\n    <tr>\n      <th>Anbarasan</th>\n      <td>27</td>\n    </tr>\n  </tbody>\n</table>\n</div>"
     },
     "metadata": {},
     "execution_count": 12
    }
   ],
   "source": [
    "pd_df = pd.DataFrame(df, dtype=int)\n",
    "pd_df.head()"
   ]
  },
  {
   "cell_type": "code",
   "execution_count": 13,
   "metadata": {
    "tags": []
   },
   "outputs": [
    {
     "output_type": "stream",
     "name": "stdout",
     "text": "<class 'pandas.core.frame.DataFrame'>\nIndex: 2 entries, Shoba to Anbarasan\nData columns (total 1 columns):\n #   Column  Non-Null Count  Dtype\n---  ------  --------------  -----\n 0   Age     2 non-null      int64\ndtypes: int64(1)\nmemory usage: 112.0+ bytes\n"
    }
   ],
   "source": [
    "pd_df.info()"
   ]
  },
  {
   "cell_type": "code",
   "execution_count": 14,
   "metadata": {},
   "outputs": [
    {
     "output_type": "execute_result",
     "data": {
      "text/plain": "             Age\ncount   2.000000\nmean   45.500000\nstd    26.162951\nmin    27.000000\n25%    36.250000\n50%    45.500000\n75%    54.750000\nmax    64.000000",
      "text/html": "<div>\n<style scoped>\n    .dataframe tbody tr th:only-of-type {\n        vertical-align: middle;\n    }\n\n    .dataframe tbody tr th {\n        vertical-align: top;\n    }\n\n    .dataframe thead th {\n        text-align: right;\n    }\n</style>\n<table border=\"1\" class=\"dataframe\">\n  <thead>\n    <tr style=\"text-align: right;\">\n      <th></th>\n      <th>Age</th>\n    </tr>\n  </thead>\n  <tbody>\n    <tr>\n      <th>count</th>\n      <td>2.000000</td>\n    </tr>\n    <tr>\n      <th>mean</th>\n      <td>45.500000</td>\n    </tr>\n    <tr>\n      <th>std</th>\n      <td>26.162951</td>\n    </tr>\n    <tr>\n      <th>min</th>\n      <td>27.000000</td>\n    </tr>\n    <tr>\n      <th>25%</th>\n      <td>36.250000</td>\n    </tr>\n    <tr>\n      <th>50%</th>\n      <td>45.500000</td>\n    </tr>\n    <tr>\n      <th>75%</th>\n      <td>54.750000</td>\n    </tr>\n    <tr>\n      <th>max</th>\n      <td>64.000000</td>\n    </tr>\n  </tbody>\n</table>\n</div>"
     },
     "metadata": {},
     "execution_count": 14
    }
   ],
   "source": [
    "pd_df.describe()"
   ]
  },
  {
   "cell_type": "code",
   "execution_count": null,
   "metadata": {},
   "outputs": [],
   "source": []
  }
 ]
}